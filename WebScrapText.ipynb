{
 "cells": [
  {
   "cell_type": "code",
   "execution_count": 36,
   "metadata": {},
   "outputs": [],
   "source": [
    "import bs4 as bs\n",
    "import urllib.request\n",
    "from selenium import webdriver\n",
    "from selenium.webdriver.common.by import By\n",
    "from selenium.webdriver.support.ui import WebDriverWait\n",
    "from selenium.webdriver.support import expected_conditions as EC\n",
    "from selenium.common.exceptions import StaleElementReferenceException\n",
    "import time\n",
    "from selenium.webdriver.common.keys import Keys\n",
    "from webdriver_manager.chrome import ChromeDriverManager\n",
    "import warnings\n",
    "warnings.filterwarnings(\"ignore\")"
   ]
  },
  {
   "cell_type": "code",
   "execution_count": 37,
   "metadata": {},
   "outputs": [
    {
     "name": "stderr",
     "output_type": "stream",
     "text": [
      "The chromedriver version (120.0.6099.109) detected in PATH at c:\\Users\\sabri\\Desktop\\VSCODE_python\\chromedriver.exe might not be compatible with the detected chrome version (121.0.6167.140); currently, chromedriver 121.0.6167.85 is recommended for chrome 121.*, so it is advised to delete the driver in PATH and retry\n"
     ]
    }
   ],
   "source": [
    "try :\n",
    "    driver = webdriver.Chrome( )\n",
    "except :\n",
    "    driver = webdriver.Chrome(ChromeDriverManager(version=\"114.0.5735.90\").install( )) \n"
   ]
  },
  {
   "cell_type": "code",
   "execution_count": 38,
   "metadata": {},
   "outputs": [],
   "source": [
    "# Charger l'URL de la page\n",
    "driver.get(\"https://www.senscritique.com/search?query=Grand+Theft+Auto&page=1&universe=game&category=Jeu&franchises=Grand+Theft+Auto\")\n",
    "\n",
    "# Attendre que le bouton d'acceptation des cookies soit présent\n",
    "wait = WebDriverWait(driver, 100)\n",
    "accept_cookie_button = wait.until(EC.element_to_be_clickable((By.ID, 'didomi-notice-agree-button')))\n",
    "\n",
    "# Cliquer sur le bouton d'acceptation des cookies\n",
    "accept_cookie_button.click()"
   ]
  },
  {
   "cell_type": "code",
   "execution_count": 39,
   "metadata": {},
   "outputs": [
    {
     "name": "stdout",
     "output_type": "stream",
     "text": [
      "['https://www.senscritique.com/jeuvideo/grand_theft_auto_v/467984', 'https://www.senscritique.com/jeuvideo/grand_theft_auto_iv/331307', 'https://www.senscritique.com/jeuvideo/grand_theft_auto_san_andreas/99812', 'https://www.senscritique.com/jeuvideo/grand_theft_auto_vice_city/87896', 'https://www.senscritique.com/jeuvideo/grand_theft_auto_iii/120325', 'https://www.senscritique.com/jeuvideo/grand_theft_auto_san_andreas/19451870', 'https://www.senscritique.com/jeuvideo/grand_theft_auto_2/96756', 'https://www.senscritique.com/jeuvideo/grand_theft_auto/161469', 'https://www.senscritique.com/jeuvideo/grand_theft_auto_chinatown_wars/108438', 'https://www.senscritique.com/jeuvideo/grand_theft_auto_vice_city_stories/123639', 'https://www.senscritique.com/jeuvideo/grand_theft_auto_liberty_city_stories/72634', 'https://www.senscritique.com/jeuvideo/grand_theft_auto_vi/35634120', 'https://www.senscritique.com/jeuvideo/grand_theft_auto_online/28249906', 'https://www.senscritique.com/jeuvideo/grand_theft_auto_iii_10th_anniversary_edition/494324', 'https://www.senscritique.com/jeuvideo/grand_theft_auto/8460386', 'https://www.senscritique.com/jeuvideo/Grand_Theft_Auto_Vice_City_10th_Anniversary/19451869']\n",
      "16\n"
     ]
    }
   ],
   "source": [
    "# Trouver tous les éléments ancre (balises <a>)\n",
    "elements_ancre = driver.find_elements(by = 'xpath', value = \"//a[@class='sc-e6f263fc-0 sc-a0949da7-1 cTWuvs eGjRhz']\")\n",
    "\n",
    "# Récupérer les liens (href) et les mettre dans une liste\n",
    "liens = []\n",
    "for element in elements_ancre:\n",
    "    lien = element.get_attribute(\"href\")\n",
    "    liens.append(lien)\n",
    "\n",
    "print(liens)\n",
    "print(len(liens))\n"
   ]
  },
  {
   "cell_type": "code",
   "execution_count": 40,
   "metadata": {},
   "outputs": [
    {
     "name": "stdout",
     "output_type": "stream",
     "text": [
      "['https://www.senscritique.com/jeuvideo/grand_theft_auto_vice_city_the_definitive_edition/46423602', 'https://www.senscritique.com/jeuvideo/Grand_Theft_Auto_London_1961/35021456', 'https://www.senscritique.com/jeuvideo/grand_theft_auto_san_andreas_the_definitive_edition/45963353', 'https://www.senscritique.com/jeuvideo/grand_theft_auto_iii_the_definitive_edition/45897895', 'https://www.senscritique.com/jeuvideo/Grand_Theft_Auto_San_Andreas/45466042']\n",
      "5\n"
     ]
    }
   ],
   "source": [
    "# Cliquer sur la pagination pour aller à la page suivante\n",
    "pagination_button = driver.find_element(By.XPATH, \"//span[@class='sc-e6f263fc-1 sc-5f93bd9d-1 sc-5f93bd9d-2 dkHTDS bYVVSG iWxbsR']\")\n",
    "pagination_button.click()\n",
    "\n",
    "# Attendre que la nouvelle page soit complètement chargée\n",
    "time.sleep(10)\n",
    "\n",
    "# Actualiser l'élément avant de l'utiliser\n",
    "element = driver.find_element(By.XPATH, \"//a[@class='sc-e6f263fc-0 sc-a0949da7-1 cTWuvs eGjRhz']\")\n",
    "lien = element.get_attribute(\"href\")\n",
    "\n",
    "# Trouver tous les éléments ancre (balises <a>)\n",
    "elements_ancre_2 = driver.find_elements(by = 'xpath', value = \"//a[@class='sc-e6f263fc-0 sc-a0949da7-1 cTWuvs eGjRhz']\")\n",
    "\n",
    "# Récupérer les liens (href) et les mettre dans une liste\n",
    "liens_2 = []\n",
    "for element in elements_ancre_2:\n",
    "    lien = element.get_attribute(\"href\")\n",
    "    liens_2.append(lien)\n",
    "\n",
    "print(liens_2)\n",
    "print(len(liens_2))\n",
    "\n",
    "# Fermer le navigateur\n",
    "driver.quit()"
   ]
  },
  {
   "cell_type": "code",
   "execution_count": 41,
   "metadata": {},
   "outputs": [
    {
     "name": "stdout",
     "output_type": "stream",
     "text": [
      "21\n"
     ]
    }
   ],
   "source": [
    "links = liens + liens_2\n",
    "print(len(links))"
   ]
  },
  {
   "cell_type": "code",
   "execution_count": 75,
   "metadata": {},
   "outputs": [
    {
     "name": "stderr",
     "output_type": "stream",
     "text": [
      "The chromedriver version (120.0.6099.109) detected in PATH at c:\\Users\\sabri\\Desktop\\VSCODE_python\\chromedriver.exe might not be compatible with the detected chrome version (121.0.6167.140); currently, chromedriver 121.0.6167.85 is recommended for chrome 121.*, so it is advised to delete the driver in PATH and retry\n"
     ]
    },
    {
     "data": {
      "text/plain": [
       "<selenium.webdriver.remote.webelement.WebElement (session=\"c792da297190269ed051de313874bb3e\", element=\"AD79D33E526B5CAB9B5BDD326A055BAF_element_49\")>"
      ]
     },
     "execution_count": 75,
     "metadata": {},
     "output_type": "execute_result"
    }
   ],
   "source": [
    "url = links[10]\n",
    "driver = webdriver.Chrome( )\n",
    "driver.get(url)\n",
    "\n",
    "# Attendre que le bouton d'acceptation des cookies soit présent et Cliquer sur le bouton d'acceptation des cookies\n",
    "wait = WebDriverWait(driver, 100)\n",
    "accept_cookie_button = wait.until(EC.element_to_be_clickable((By.ID, 'didomi-notice-agree-button')))\n",
    "accept_cookie_button.click()\n",
    "\n",
    "# Cliquer sur voir les critiques\n",
    "voir_critiques = driver.find_elements(by = 'xpath', value = \"//a[@class='sc-8d851f5b-0 ktOqmP']\")\n",
    "voir_critiques[2].click()\n",
    "\n",
    "# Attendre que la nouvelle page soit complètement chargée\n",
    "wait = WebDriverWait(driver, 100)\n",
    "wait.until(EC.presence_of_element_located((By.XPATH, \"//body\")))\n"
   ]
  },
  {
   "cell_type": "code",
   "execution_count": 43,
   "metadata": {},
   "outputs": [],
   "source": [
    "def com():\n",
    "    # Collecter les liens vers les critiques\n",
    "    liens_critiques = []\n",
    "    critique = driver.find_elements(By.XPATH, \"//a[@class='sc-e6f263fc-0 sc-a0949da7-0 iZcnfH cYbaKn link']\")\n",
    "    for k in critique :\n",
    "        lien_critique = k.get_attribute('href')\n",
    "        liens_critiques.append(lien_critique)\n",
    "    print(liens_critiques)\n",
    "\n",
    "    # Collecter les commentaires\n",
    "    commentaires_page = []\n",
    "    date_commentaires = []\n",
    "    lues = []\n",
    "    for lien in liens_critiques:\n",
    "        # Accéder à la page de la critique\n",
    "        driver.get(lien)\n",
    "\n",
    "        # Attendre que la nouvelle page soit complètement chargée\n",
    "        wait.until(EC.presence_of_element_located((By.XPATH, \"//div[@data-testid='review-content']\")))\n",
    "\n",
    "        # Récupérer le commentaire\n",
    "        commentaire = driver.find_element(By.XPATH, \"//div[@data-testid='review-content']\")\n",
    "        commentaires_page.append(commentaire.text)\n",
    "        \n",
    "        # Récupérer la date du commentaire\n",
    "        date_commentaire = driver.find_element(By.XPATH, \"//p[@class='sc-e6f263fc-0 sc-94af9243-13 iZcnfH']\")\n",
    "        date_commentaires.append(date_commentaire.text)\n",
    "\n",
    "        # Récupérer le nombre de fois que la critique a été lue\n",
    "        try :\n",
    "            lue = driver.find_element(By.XPATH, \"//p[@class='sc-e6f263fc-0 sc-8a9fae26-0 GItpw kTRlES']\")\n",
    "            lues.append(lue.text)\n",
    "        except :\n",
    "            lues.append('')\n",
    "            \n",
    "        # Effectuer un retour à la page précédente\n",
    "        driver.back()\n",
    "\n",
    "    return commentaires_page, date_commentaires, lues\n"
   ]
  },
  {
   "cell_type": "code",
   "execution_count": 44,
   "metadata": {},
   "outputs": [],
   "source": [
    "def cliq(x):\n",
    "    for j in range(2, x + 1, 1):\n",
    "        # Cliquer sur la page suivante \n",
    "        clique = 'click-' + str(j)\n",
    "        valeur = \"//span[@data-testid='\" + clique + \"']\"\n",
    "        page = driver.find_element(By.XPATH, valeur)\n",
    "        page.click()\n",
    "        time.sleep(1)\n",
    "        "
   ]
  },
  {
   "cell_type": "code",
   "execution_count": 78,
   "metadata": {},
   "outputs": [
    {
     "name": "stdout",
     "output_type": "stream",
     "text": [
      "['https://www.senscritique.com/jeuvideo/grand_theft_auto_liberty_city_stories/critique/196377080', 'https://www.senscritique.com/jeuvideo/grand_theft_auto_liberty_city_stories/critique/177697397', 'https://www.senscritique.com/jeuvideo/grand_theft_auto_liberty_city_stories/critique/100022682', 'https://www.senscritique.com/jeuvideo/grand_theft_auto_liberty_city_stories/critique/16662857', 'https://www.senscritique.com/jeuvideo/grand_theft_auto_liberty_city_stories/critique/15294264', 'https://www.senscritique.com/jeuvideo/grand_theft_auto_liberty_city_stories/critique/1749283', 'https://www.senscritique.com/jeuvideo/grand_theft_auto_liberty_city_stories/critique/283657029', 'https://www.senscritique.com/jeuvideo/grand_theft_auto_liberty_city_stories/critique/277888873', 'https://www.senscritique.com/jeuvideo/grand_theft_auto_liberty_city_stories/critique/58300283', 'https://www.senscritique.com/jeuvideo/grand_theft_auto_liberty_city_stories/critique/44748855']\n",
      "['https://www.senscritique.com/jeuvideo/grand_theft_auto_liberty_city_stories/critique/30544217', 'https://www.senscritique.com/jeuvideo/grand_theft_auto_liberty_city_stories/critique/14014718', 'https://www.senscritique.com/jeuvideo/grand_theft_auto_liberty_city_stories/critique/3625910']\n"
     ]
    }
   ],
   "source": [
    "time.sleep(10)\n",
    "# On récupère le numéro de la page finale\n",
    "try :\n",
    "    # Dans le cas où on a plusieurs pages\n",
    "    pages = driver.find_elements(By.XPATH, \"//span[@class='sc-e6f263fc-1 sc-5f93bd9d-1 sc-5f93bd9d-2 dkHTDS bYVVSG iWxbsR']\")\n",
    "    page_finale = pages[-1].text\n",
    "    page_finale = int(page_finale)\n",
    "except : \n",
    "    # Dans le cas où il n'y a qu'une seule page\n",
    "    page = driver.find_element(By.XPATH, \"//span[@class='sc-e6f263fc-1 sc-5f93bd9d-1 sc-5f93bd9d-2 dkHTDS bYVVSG sDnMi']\")\n",
    "    page_finale = page.text\n",
    "    page_finale = int(page_finale)\n",
    "\n",
    "# On lance l'algorithme pour récupérer les résultats de la 1ère page\n",
    "resultat = com()\n",
    "\n",
    "# On stocke les résultats de la 1ère page\n",
    "commentaires_1 = []\n",
    "commentaires_1 = commentaires_1 + resultat[0]\n",
    "\n",
    "date_commentaires_1 = []\n",
    "date_commentaires_1 = date_commentaires_1 + resultat[1]\n",
    "\n",
    "lues_1 = []\n",
    "lues_1 = lues_1 + resultat[2]\n",
    "\n",
    "# On prépare l'algorithme pour toutes les autres pages\n",
    "commentaires_autres = []\n",
    "date_commentaires_autres = []\n",
    "lues_autres = []\n",
    "time.sleep(5)\n",
    "\n",
    "for i in range(2, page_finale + 1, 1):\n",
    "    \n",
    "    # Cliquer sur la page i\n",
    "    clique = 'click-' + str(i)\n",
    "    valeur = \"//span[@data-testid='\" + clique + \"']\"\n",
    "    page = driver.find_element(By.XPATH, valeur)\n",
    "    page.click()\n",
    "    \n",
    "    # Laisse charger la page i\n",
    "    time.sleep(10)\n",
    "\n",
    "    # On lance l'algorithme pour récupérer les résultats de la page i\n",
    "    result = com()\n",
    "    \n",
    "    # Stockage des commentaires et des dates des commentaires et du nombre de fois que la critique a été lu\n",
    "    commentaires_autres = commentaires_autres + result[0]\n",
    "    date_commentaires_autres = date_commentaires_autres + result[1]\n",
    "    lues_autres = lues_autres + result[2]\n",
    "\n",
    "    # On clique sur chaque page de la pagination pour faire apparaitre leur balise\n",
    "    cliq(i)\n",
    "\n",
    "    \n",
    "\n"
   ]
  },
  {
   "cell_type": "code",
   "execution_count": 79,
   "metadata": {},
   "outputs": [
    {
     "name": "stdout",
     "output_type": "stream",
     "text": [
      "['Je l\\'ai fini sur emulateur PSX2, je l\\'avais eu originellement sur PSP. Le jeu subissait quelques ralentissements et l\\'ergonomie de la PSP était pas top mais ça passait. C\\'était bien cool d\\'avoir un GTA like portable à l\\'époque.\\n\\nPour ce qui est du jeu on voit bien que c\\'est l\\'équipe \"stagiaire\" qui s\\'en était chargé. Malgré les ajouts par rapport au 3 il est pour moi moins bon que l\\'épisode originel. Les personnages et la back story sont moins bien écrites et au final très génériques. Très peu de moquerie sur la société Américaine ou du monde moderne dans cet opus, pas beaucoup de passages épicés/polémiques non plus c\\'est donc assez fade.\\n\\nOn pourra faire le même constat dans les objectifs des missions pas originales et qui ne marqueront pas grand monde. Je ne sais même pas si je vais me souvenir de la moitié des missions dans 1 mois c\\'est pour vous dire.... Ils ont fait aussi un mauvais choix de concentrer les missions sur du gunfight alors que les GTA de cette époque avaient de gros problèmes de précision, d\\'ergonomie et de richesse sur ce point. La difficulté est d\\'ailleurs assez peu élevée comparé au anciens (III, Vice City, San Andreas)\\n\\nLa ville est toujours celle du III mais elle a subit quelques modifications. On se consolera de la faible durée de vie des missions principales (environs 10 heures) par des courses, missions taxi, livraison de pizza and co qui sont toujours de la partie et toujours aussi Fun', 'GRAND THEFT AUTO LIBERTY CITY STORIES est le premier GTA intermédiaire sorti sur Playstation portable après le succès de la première trilogie, et qui fait patienter les joueur avec le GTA HD qu\\'est GTA 4. Et dans cette opus, on retourne dans la ville qui a vraiment fait naitre le mythe GTA, à savoir la ville de GTA 3 : LIBERTY CITY, parodie de New York, se passant 3 ans avant les évènements de GTA 3.\\nEt ce GTA est vraiment très bon, certes pas aussi bon que les épisodes principaux, mais c\\'est malgré tout le premier GTA que j\\'ai fini, et qui a une grande place dans mon expérience de gamer.\\nDans cet opus, on incarne Toni Cipriani, qui dans GTA 3 était un membre de la famille Leone, mafia italienne de Liberty City, et qui donnait des missions au héros. Dans ce préquel, Toni revient à Liberty City après un assassinat qui a mal finit, et qui doit remonter en haut de l\\'échelle sociale pour prouver qu\\'il mérite son nom dans la famille Leone, en aidant le Parrain Salvatore Leone à reprendre le contrôle de la ville, à avoir sous leur poche le maire, et à éliminer les gangs qui s\\'interpose contre la famille Leone, à savoir les Sindacos, la famille Forelli (la fameuse famille de VICE CITY) et surtout la mafia Sicilienne qui créer une guerre de gang dans la ville, afin de diviser pour mieux régner.\\nL\\'histoire est vraiment très bonne digne de GTA, et un bon préquel à GTA 3, et une sorte d\\'enrichissement des personnages et de l\\'univers. Car surtout tout les jeux GTA, malgré le fait qu\\'on change de ville et de personnage, forme un univers cohérent, où on recroise des personnages dans les différents jeux. Et cet opus continu de faire un peu le pont au niveau de l\\'histoire non seulement avec GTA 3, mais aussi avec les autres opus. Donc, je dirai que GTA est un peu un des premiers grands univers lié, bien avant le cinéma avec la mode du MCU, donc on pourrait appeler ça le GTACU.\\nLes personnages sont vraiment très bons. Toni Cipriani est vraiment un très bon protagoniste et un des plus marquants malgré le fait que l\\'on soit dans un épisode intermédiaire, et que je trouve mieux que Vic Vance de VICE CITY STORIES. On découvre dans ce jeu son réacensions social dans la famille Léone et dans la ville de Liberty City, pour ensuite avoir le Toni de GTA 3. Et surtout on a Salvatore Leone, excellent personnage charismatique qui était le centre dans la première grosse partie de GTA 3, et qui est la référence de Vito Corleone du PARRAIN. Le personnage est excellent dans sa lutte pour retrouver de l\\'emprise sur la ville, et qui représente un peu le figure paternel de Toni, où ce dernier doit faire ses preuves en étant son garde du corps. Donc on retrouve dans ce prequel tout l\\'ambiance LE PARRAIN qu\\'on avait dans la première grosse partie de GTA 3.\\nLes autres personnages sont très bons, avec le retour de Maria, la \"pute\" de Salvatore, et qui était le love interest principal de GTA 3, Donald Love qui a une place beaucoup plus importante ici vu qu\\'il nous aide à avoir le maire dans notre poche, et qui niveau personnalité est pour l\\'instant moins mature que dans GTA 3 (d\\'un coté logique vu que c\\'est un préquel). Après on retrouve des personnages secondaires du 3 qui font plaisir comme 8-Ball l\\'expert en explosif, ainsi que Ray Machowski dans quelque cinématique, flic corrompu qui veut mettre fin à la criminalité, bien qu\\'ici c\\'est surtout Leon McAffrey qui a vraiment sa place. Et on apprend également plus aussi la relation très compliqué entre Toni et sa mère, que cette dernière rejette car n\\'est pas digne d\\'être un homme pur. Les autres personnages sont bons, notamment le salopard Vincenzo. Et on a également le personnage Avery, personnage de VICE CITY qui était le maitre de Donald Love, et qu\\'on doit buter ici. Et sans oublier aussi Phil Cassidy, l\\'ancien militaire qui a perdu son bras de manière bête dans VICE CITY, et qui la comme dans le 3 vend l\\'artillerie lourde pour le joueur.\\nDonc une excellente histoire à la GTA qui enrichie le lore de GTA.\\nEt les missions sont très bonnes et digne de GTA, avec des moments qui sortent du lot comme le passage en vue de haut où on doit survivre face à des gens en tronçonneuse, ainsi que des missions plus compliqués comme l\\'avant dernière mission où on doit escorter un convoi.\\n\\nLe Gameplay est vraiment très bon où ça ressemble à tout ce que l\\'on connait de GTA, avec le coté Open World Bac à sable, et avec quelques ajouts par rapport au 3 comme les motos, ainsi que de nouvelles armes.\\nMais ce GTA a tout de même moins de contenu dans le sens où on ne retrouve pas l\\'aspect gestion d\\'immobilier pour se faire de l\\'argent, ainsi que l\\'importance des gangs, chose que VICE CITY STORIES remettra en bon et du forme.\\nLes graphismes sont vraiment très bon pour de la PSP, malgré de gros bug de textures.\\nEt la musique reste excellente avec presque les mêmes stations de radio de GTA 3, et surtout le thème principal du jeu qui est un des meilleurs de la saga.\\nUn excellent GTA intermédiaire sans être à la hauteur des opus principaux.', 'Avec ses missions et bonus variés, son environnement étendu, il est difficile de faire mieux sur une console portable. Les missions sont même plus courtes et jouables que sur les consoles de salon, tout en restant aussi subversives.', \"Un classique GTA. Certes distrayant quand ça fait longtemps qu'on n'a plus joué à un opus de la franchise, mais au final c'est assez répétitif.\\nLes missions s'enchainent les unes après les autres, et au final on n'écoute même plus l'histoire tellement il y a de rebondissements et de péripéties.\\n\\nOn se contente d'aller du point A au point B, de tuer les personnes qu'on nous a dit de tuer, et tout ça en un temps limité s'il vous plaît.\\n\\nFinalement le plus marrant, c'est encore les petites quêtes parallèles : trouver les 100 objets cachés, dégoter la douzaine de voitures cachées et la rapporter au garage pour se faire un peu plus de blé, compléter tous les rodéos, finir premier dans toutes les courses illégales.\\n\\n\\nJe trouve ça dommage qu'à la fin d'un jeu on retienne plus facilement les petites missions plutôt que les principales.\\nD'où mon soulagement certain à l'avoir terminé. Je ne pense pas y rejouer de sitôt.\\n\\nQuoique l'épisode 5 va bientôt sortir. A voir...\", \"Beaucoup de choses ont déjà été dites sur ce jeu.\\nBien que l'idée de départ de visiter Liberty City soit bonne, pas mal de choses viennent péter l'expérience de jeu.\\n\\nLa maniabilité est mauvaise, et déjà qu'un seul stick pour ce genre de jeu est dommageable, ici le fait que le stick PSP fat (au moment de la sortie du jeu seule version disponible) n'en soit pas réellement un fait qu'on galère pas mal (même sur 3DS c'est mieux).\\nLes missions sont plutôt répétitives et on ne prend pas vraiment plaisir à les faire car au final, les récompenses obtenues sont moyennes. Au final, on reste à se ballader dans les rues.\\n\\nEn parlant des environnements, si on exclue cette merveille de rapidité qu'est l'UMD, la moindre surcharge de l'écran conduit à des ralentissements.\\nAlors oui, les graphismes sont plutôt bons, mais si le plaisir de jeu est trop bâclé, on ne va pas faire notre maso et passer sur autre chose.\", \"Liberty City Stories se révèle être un bon jeu PSP, mais n'atteint pas le niveau de San Andreas. Ici, les missions ont tendance à se ressembler, et ne pas les suivre amène très vite à l'ennui. Le découpage de la ville en trois zones pousse à avancer plus vite dans le scénario pour les débloquer, tandis que les gains réalisés par les missions de taxi ou d'ambulance sont minimes à côté de ceux, plus motivants, offerts par le Parrain. Si la PSP affiche des décors assez variés malgré de fortes saccades pendant les scènes de combats, vous apprécierez tout de même traverser la ville en trombe en roue arrière sans aucun ralentissement d'affichage. Un titre qui au final décevra les fans de la série et qui a du mal à satisfaire les novices. Mais il a l'avantage d'occuper, parfois de divertir.\", \"Des heures passées dessus à.... ne rien faire réellement, juste se balader\\nUn régal pour l'époque\", \"Ce jeu suit notre claude national avant l'action qui se passe dans l'univers du III. Le gameplay et les possibilités sont bien adaptés pour rentrer dans la console de poche de sony. L'histoire est intéressante et digne d'un GTA de ses années la !\\n\\nUn épisode sympa !\", 'Liberty city est un nom fondateur pour les amateurs de la série GTA (Grand theft auto). En lançant GTA 3, dont l’action se situe dans cette ville, Rockstar a révolutionné le jeu d’action avec un mélange plus ou moins bien dosé de provocation, de grande liberté pour le joueur et de bande-son soignée.\\nLiberty city a été la première ville où l’on pouvait, sans crainte, laisser libre court à son instinct de mauvais garçon. Deux jeux ont suivi : Vice city et San Andreas. Tous deux sont des améliorations de GTA 3, dans des univers différents.\\nA défaut d’un GTA 4, qui fera finalement les beaux jours de la PS3, Rockstar a préféré livrer ce nouvel épisode, qui sent un peu le réchauffé. Le titre était destiné au départ à la console portable PSP. Pour ménager les fans, l’éditeur a sorti ensuite une version PS2 très peu retouchée. Résultat : un jeu limité techniquement et graphiquement. Un véritable retour en arrière.\\nC’est d’ailleurs un leitmotiv dans cet opus, car l’action se déroule dans la même ville, à la même époque et avec les mêmes personnages que GTA 3. Le joueur dirige Tony Cipriani, un rôle secondaire dans le titre fondateur.\\nMalgré cette forme dépouillée, le jeu reste fidèle à la saga. Les missions sont variées, l’humour omniprésent. Les missions sont peut-être même plus déjantées que d’habitude.', \"Sur la petite console de sony portable je me suis régalé , surtout a passer des heures dans le train me remenant du lycée !! Que le temps passe vite en compagnie de ce jeu , j'ai adoré !!!\", \"En 2006, c'était le fait de faire un GTA 3 sur PSP. Après, cette préquelle est un peu moins prenante que ce dernier mais reste honnête si on aime GTA.\", 'Un super jeu en complément avec Vice City Stories sur PSP.\\nBande sonore assez sympa et bonne durée de vie.\\nLa ville est grande et complète mais sans atteindre San Andreas.\\nJe ne peux que vous le recommander et il est dans les alentours des 15 euros.', \"Malgré des critiques mitigé, GTA Liberty City Stories et pour moi un des meilleur GTA, tout les ingrédients son réunis pour nous faire passer des moment incroyable dans une ville que l'on se surprend à redécouvrire 4 ans aprés sa premiére apparition sur console;\\nLa durée de vie est gigantesque sans surprise.\"]\n",
      "13\n",
      "['Le 10 juin 2019', 'Le 19 août 2021', 'Le 30 juillet 2016', 'Le 26 novembre 2012', 'Le 14 septembre 2012', 'Le 12 octobre 2010', 'Le 26 janvier 2023', 'Le 22 octobre 2022', 'Le 5 juin 2015', 'Le 12 janvier 2015', 'Le 13 février 2014', 'Le 11 mars 2013', 'Le 20 décembre 2010']\n",
      "13\n",
      "['Critique lue 415 fois', 'Critique lue 275 fois', 'Critique lue 386 fois', 'Critique lue 444 fois', 'Critique lue 456 fois', 'Critique lue 2.3K fois', 'Critique lue 2 fois', 'Critique lue 8 fois', 'Critique lue 720 fois', 'Critique lue 90 fois']\n",
      "13\n"
     ]
    }
   ],
   "source": [
    "commentaires = commentaires_1 + commentaires_autres\n",
    "date_commentaires = date_commentaires_1 + date_commentaires_autres\n",
    "lues = lues_1 + lues_autres\n",
    "\n",
    "print(commentaires)\n",
    "print(len(commentaires))\n",
    "print(date_commentaires)\n",
    "print(len(date_commentaires))\n",
    "print(lues_1)\n",
    "print(len(lues))"
   ]
  },
  {
   "cell_type": "code",
   "execution_count": 80,
   "metadata": {},
   "outputs": [
    {
     "data": {
      "text/html": [
       "<div>\n",
       "<style scoped>\n",
       "    .dataframe tbody tr th:only-of-type {\n",
       "        vertical-align: middle;\n",
       "    }\n",
       "\n",
       "    .dataframe tbody tr th {\n",
       "        vertical-align: top;\n",
       "    }\n",
       "\n",
       "    .dataframe thead th {\n",
       "        text-align: right;\n",
       "    }\n",
       "</style>\n",
       "<table border=\"1\" class=\"dataframe\">\n",
       "  <thead>\n",
       "    <tr style=\"text-align: right;\">\n",
       "      <th></th>\n",
       "      <th>Jeu</th>\n",
       "      <th>Commentaire</th>\n",
       "      <th>Date du commentaire</th>\n",
       "      <th>Critique lue</th>\n",
       "    </tr>\n",
       "  </thead>\n",
       "  <tbody>\n",
       "    <tr>\n",
       "      <th>0</th>\n",
       "      <td>Grand Theft Auto : Liberty City Stories</td>\n",
       "      <td>Je l'ai fini sur emulateur PSX2, je l'avais eu...</td>\n",
       "      <td>Le 10 juin 2019</td>\n",
       "      <td>Critique lue 415 fois</td>\n",
       "    </tr>\n",
       "    <tr>\n",
       "      <th>1</th>\n",
       "      <td>Grand Theft Auto : Liberty City Stories</td>\n",
       "      <td>GRAND THEFT AUTO LIBERTY CITY STORIES est le p...</td>\n",
       "      <td>Le 19 août 2021</td>\n",
       "      <td>Critique lue 275 fois</td>\n",
       "    </tr>\n",
       "    <tr>\n",
       "      <th>2</th>\n",
       "      <td>Grand Theft Auto : Liberty City Stories</td>\n",
       "      <td>Avec ses missions et bonus variés, son environ...</td>\n",
       "      <td>Le 30 juillet 2016</td>\n",
       "      <td>Critique lue 386 fois</td>\n",
       "    </tr>\n",
       "    <tr>\n",
       "      <th>3</th>\n",
       "      <td>Grand Theft Auto : Liberty City Stories</td>\n",
       "      <td>Un classique GTA. Certes distrayant quand ça f...</td>\n",
       "      <td>Le 26 novembre 2012</td>\n",
       "      <td>Critique lue 444 fois</td>\n",
       "    </tr>\n",
       "    <tr>\n",
       "      <th>4</th>\n",
       "      <td>Grand Theft Auto : Liberty City Stories</td>\n",
       "      <td>Beaucoup de choses ont déjà été dites sur ce j...</td>\n",
       "      <td>Le 14 septembre 2012</td>\n",
       "      <td>Critique lue 456 fois</td>\n",
       "    </tr>\n",
       "    <tr>\n",
       "      <th>5</th>\n",
       "      <td>Grand Theft Auto : Liberty City Stories</td>\n",
       "      <td>Liberty City Stories se révèle être un bon jeu...</td>\n",
       "      <td>Le 12 octobre 2010</td>\n",
       "      <td>Critique lue 2.3K fois</td>\n",
       "    </tr>\n",
       "    <tr>\n",
       "      <th>6</th>\n",
       "      <td>Grand Theft Auto : Liberty City Stories</td>\n",
       "      <td>Des heures passées dessus à.... ne rien faire ...</td>\n",
       "      <td>Le 26 janvier 2023</td>\n",
       "      <td>Critique lue 2 fois</td>\n",
       "    </tr>\n",
       "    <tr>\n",
       "      <th>7</th>\n",
       "      <td>Grand Theft Auto : Liberty City Stories</td>\n",
       "      <td>Ce jeu suit notre claude national avant l'acti...</td>\n",
       "      <td>Le 22 octobre 2022</td>\n",
       "      <td>Critique lue 8 fois</td>\n",
       "    </tr>\n",
       "    <tr>\n",
       "      <th>8</th>\n",
       "      <td>Grand Theft Auto : Liberty City Stories</td>\n",
       "      <td>Liberty city est un nom fondateur pour les ama...</td>\n",
       "      <td>Le 5 juin 2015</td>\n",
       "      <td>Critique lue 720 fois</td>\n",
       "    </tr>\n",
       "    <tr>\n",
       "      <th>9</th>\n",
       "      <td>Grand Theft Auto : Liberty City Stories</td>\n",
       "      <td>Sur la petite console de sony portable je me s...</td>\n",
       "      <td>Le 12 janvier 2015</td>\n",
       "      <td>Critique lue 90 fois</td>\n",
       "    </tr>\n",
       "    <tr>\n",
       "      <th>10</th>\n",
       "      <td>Grand Theft Auto : Liberty City Stories</td>\n",
       "      <td>En 2006, c'était le fait de faire un GTA 3 sur...</td>\n",
       "      <td>Le 13 février 2014</td>\n",
       "      <td>Critique lue 43 fois</td>\n",
       "    </tr>\n",
       "    <tr>\n",
       "      <th>11</th>\n",
       "      <td>Grand Theft Auto : Liberty City Stories</td>\n",
       "      <td>Un super jeu en complément avec Vice City Stor...</td>\n",
       "      <td>Le 11 mars 2013</td>\n",
       "      <td>Critique lue 1.5K fois</td>\n",
       "    </tr>\n",
       "    <tr>\n",
       "      <th>12</th>\n",
       "      <td>Grand Theft Auto : Liberty City Stories</td>\n",
       "      <td>Malgré des critiques mitigé, GTA Liberty City ...</td>\n",
       "      <td>Le 20 décembre 2010</td>\n",
       "      <td>Critique lue 547 fois</td>\n",
       "    </tr>\n",
       "  </tbody>\n",
       "</table>\n",
       "</div>"
      ],
      "text/plain": [
       "                                        Jeu  \\\n",
       "0   Grand Theft Auto : Liberty City Stories   \n",
       "1   Grand Theft Auto : Liberty City Stories   \n",
       "2   Grand Theft Auto : Liberty City Stories   \n",
       "3   Grand Theft Auto : Liberty City Stories   \n",
       "4   Grand Theft Auto : Liberty City Stories   \n",
       "5   Grand Theft Auto : Liberty City Stories   \n",
       "6   Grand Theft Auto : Liberty City Stories   \n",
       "7   Grand Theft Auto : Liberty City Stories   \n",
       "8   Grand Theft Auto : Liberty City Stories   \n",
       "9   Grand Theft Auto : Liberty City Stories   \n",
       "10  Grand Theft Auto : Liberty City Stories   \n",
       "11  Grand Theft Auto : Liberty City Stories   \n",
       "12  Grand Theft Auto : Liberty City Stories   \n",
       "\n",
       "                                          Commentaire   Date du commentaire  \\\n",
       "0   Je l'ai fini sur emulateur PSX2, je l'avais eu...       Le 10 juin 2019   \n",
       "1   GRAND THEFT AUTO LIBERTY CITY STORIES est le p...       Le 19 août 2021   \n",
       "2   Avec ses missions et bonus variés, son environ...    Le 30 juillet 2016   \n",
       "3   Un classique GTA. Certes distrayant quand ça f...   Le 26 novembre 2012   \n",
       "4   Beaucoup de choses ont déjà été dites sur ce j...  Le 14 septembre 2012   \n",
       "5   Liberty City Stories se révèle être un bon jeu...    Le 12 octobre 2010   \n",
       "6   Des heures passées dessus à.... ne rien faire ...    Le 26 janvier 2023   \n",
       "7   Ce jeu suit notre claude national avant l'acti...    Le 22 octobre 2022   \n",
       "8   Liberty city est un nom fondateur pour les ama...        Le 5 juin 2015   \n",
       "9   Sur la petite console de sony portable je me s...    Le 12 janvier 2015   \n",
       "10  En 2006, c'était le fait de faire un GTA 3 sur...    Le 13 février 2014   \n",
       "11  Un super jeu en complément avec Vice City Stor...       Le 11 mars 2013   \n",
       "12  Malgré des critiques mitigé, GTA Liberty City ...   Le 20 décembre 2010   \n",
       "\n",
       "              Critique lue  \n",
       "0    Critique lue 415 fois  \n",
       "1    Critique lue 275 fois  \n",
       "2    Critique lue 386 fois  \n",
       "3    Critique lue 444 fois  \n",
       "4    Critique lue 456 fois  \n",
       "5   Critique lue 2.3K fois  \n",
       "6      Critique lue 2 fois  \n",
       "7      Critique lue 8 fois  \n",
       "8    Critique lue 720 fois  \n",
       "9     Critique lue 90 fois  \n",
       "10    Critique lue 43 fois  \n",
       "11  Critique lue 1.5K fois  \n",
       "12   Critique lue 547 fois  "
      ]
     },
     "metadata": {},
     "output_type": "display_data"
    }
   ],
   "source": [
    "import pandas as pd\n",
    "\n",
    "l = []\n",
    "for j in range(0,len(commentaires)) :\n",
    "    l.append('Grand Theft Auto : Liberty City Stories')\n",
    "\n",
    "df = pd.DataFrame(data = zip(l,commentaires,date_commentaires,lues), columns = ['Jeu','Commentaire','Date du commentaire','Critique lue'])\n",
    "\n",
    "display(df)"
   ]
  },
  {
   "cell_type": "code",
   "execution_count": 81,
   "metadata": {},
   "outputs": [],
   "source": [
    "df.to_csv('GTA_Liberty_City_Stories_comments.csv')"
   ]
  }
 ],
 "metadata": {
  "kernelspec": {
   "display_name": "Python 3",
   "language": "python",
   "name": "python3"
  },
  "language_info": {
   "codemirror_mode": {
    "name": "ipython",
    "version": 3
   },
   "file_extension": ".py",
   "mimetype": "text/x-python",
   "name": "python",
   "nbconvert_exporter": "python",
   "pygments_lexer": "ipython3",
   "version": "3.11.8"
  }
 },
 "nbformat": 4,
 "nbformat_minor": 2
}
